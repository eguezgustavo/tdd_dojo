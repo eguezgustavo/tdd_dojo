{
 "cells": [
  {
   "cell_type": "markdown",
   "id": "251a1bd4",
   "metadata": {},
   "source": [
    "# TDD Exercise 3\n",
    "\n",
    "In this example we are going to create a calculator similar to what we did on Example 1, but with one assumption:\n",
    "There is another team working in a dependency call ```calculator```, since we don't have control of this code, we cannot make changes on it, the only thing we know\n",
    "about it is that it has two methods ```calculator.sum``` which returns the sum of two numbers passed and ```calculator.mul``` which returns the multiplication of two numbers. In this exercise, we have to implement a class to fulfill the requirements but now that we depend on the code of the other team, using Dependency Injection is a good idea.\n",
    "\n",
    "## Dependency Injection\n",
    "\n",
    "Using dependencies could be a problem for our code, because the code becomes highly coupled with the dependencies that you're using. Dependency Injection helps you with this. With DI, we don't have to import the dependency in the class or module where we want to use it, instead we send it as a parameter to the constructor and let another part of the code create the dependency's objects. DI is a pattern design that says: \"If a class uses an object of a certain type, we should not make that class responsible for creating that object\". This approach makes testing and refactoring easier. Here is an [example of DI](https://python-dependency-injector.ets-labs.org/introduction/di_in_python.html).\n",
    "\n",
    "## Requirements\n",
    "\n",
    "This app is going to have a class with three methods:\n",
    "\n",
    "- A method to add two numbers.\n",
    "  - It can overflow if the result is greater than 100, so it should return: \"OverflowError\".\n",
    "  \n",
    "- A method to subtract two numbers.\n",
    "  \n",
    "- A method to get the factorial of a number.\n",
    "\n",
    "## Starting\n",
    "\n",
    "This folder has two python files:\n",
    "\n",
    "    ├── [main.py](/example_3/main.py) - Here you can write your code\n",
    "    └── [main_test.py](/example_3/main_test.py) - Here you can write your test\n",
    "\n",
    "You can start working in this exercise. Don't forget to use the naming [recommendations](./../README.md) for the exercises."
   ]
  },
  {
   "cell_type": "code",
   "execution_count": 1,
   "id": "9bfd1e4f",
   "metadata": {},
   "outputs": [
    {
     "name": "stdout",
     "output_type": "stream",
     "text": [
      "Overwriting main.py\n"
     ]
    }
   ],
   "source": [
    "%%file main.py\n",
    "\n"
   ]
  },
  {
   "cell_type": "markdown",
   "id": "8598e140",
   "metadata": {},
   "source": [
    "## Solution\n",
    "\n",
    "### sum method\n",
    "\n",
    "Let's begin considering the happy path, so let test ```6 + 4 = 9```:\n"
   ]
  },
  {
   "cell_type": "code",
   "execution_count": 2,
   "id": "54cf82b4",
   "metadata": {},
   "outputs": [
    {
     "name": "stdout",
     "output_type": "stream",
     "text": [
      "Overwriting main_test.py\n"
     ]
    }
   ],
   "source": [
    "%%file main_test.py\n",
    "from .main import Calculator\n",
    "\n",
    "\n",
    "def test__sum_method__returns_nine__when_inputs_are_six_and_three(mocker):\n",
    "    number_1 = 6\n",
    "    number_2 = 3\n",
    "    calculator = mocker.Mock(sum=mocker.Mock(return_value=9))\n",
    "\n",
    "    calculator_test = Calculator(calculator)\n",
    "    result = calculator_test.sum(number_1, number_2)\n",
    "\n",
    "    assert result == 9"
   ]
  },
  {
   "cell_type": "markdown",
   "id": "8d125aa8",
   "metadata": {},
   "source": [
    "If we run the test, it will fail"
   ]
  },
  {
   "cell_type": "code",
   "execution_count": 3,
   "id": "7063f91c",
   "metadata": {},
   "outputs": [
    {
     "name": "stdout",
     "output_type": "stream",
     "text": [
      "\u001b[1m============================= test session starts ==============================\u001b[0m\n",
      "platform linux -- Python 3.8.5, pytest-6.2.4, py-1.10.0, pluggy-0.13.1 -- /home/test/WP/1.Learning/tdd_dojo/.venv/bin/python3\n",
      "cachedir: .pytest_cache\n",
      "rootdir: /home/test/WP/1.Learning/tdd_dojo/example_3\n",
      "plugins: Faker-8.8.2, anyio-3.2.1, mock-3.6.1\n",
      "collected 0 items / 1 error                                                    \u001b[0m\n",
      "\n",
      "==================================== ERRORS ====================================\n",
      "\u001b[31m\u001b[1m________________________ ERROR collecting main_test.py _________________________\u001b[0m\n",
      "\u001b[31mImportError while importing test module '/home/test/WP/1.Learning/tdd_dojo/example_3/main_test.py'.\n",
      "Hint: make sure your test modules/packages have valid Python names.\n",
      "Traceback:\n",
      "../.venv/lib/python3.8/site-packages/_pytest/python.py:578: in _importtestmodule\n",
      "    mod = import_path(self.fspath, mode=importmode)\n",
      "../.venv/lib/python3.8/site-packages/_pytest/pathlib.py:524: in import_path\n",
      "    importlib.import_module(module_name)\n",
      "/usr/lib/python3.8/importlib/__init__.py:127: in import_module\n",
      "    return _bootstrap._gcd_import(name[level:], package, level)\n",
      "<frozen importlib._bootstrap>:1014: in _gcd_import\n",
      "    ???\n",
      "<frozen importlib._bootstrap>:991: in _find_and_load\n",
      "    ???\n",
      "<frozen importlib._bootstrap>:975: in _find_and_load_unlocked\n",
      "    ???\n",
      "<frozen importlib._bootstrap>:671: in _load_unlocked\n",
      "    ???\n",
      "../.venv/lib/python3.8/site-packages/_pytest/assertion/rewrite.py:170: in exec_module\n",
      "    exec(co, module.__dict__)\n",
      "main_test.py:1: in <module>\n",
      "    from .main import Calculator\n",
      "E   ImportError: cannot import name 'Calculator' from 'example_3.main' (/home/test/WP/1.Learning/tdd_dojo/example_3/main.py)\u001b[0m\n",
      "=========================== short test summary info ============================\n",
      "ERROR main_test.py\n",
      "!!!!!!!!!!!!!!!!!!!! Interrupted: 1 error during collection !!!!!!!!!!!!!!!!!!!!\n",
      "\u001b[31m=============================== \u001b[31m\u001b[1m1 error\u001b[0m\u001b[31m in 0.12s\u001b[0m\u001b[31m ===============================\u001b[0m\n"
     ]
    }
   ],
   "source": [
    "! pytest -svv"
   ]
  },
  {
   "cell_type": "markdown",
   "id": "5d64ff75",
   "metadata": {},
   "source": [
    "Let's write the class and the method to continue:"
   ]
  },
  {
   "cell_type": "code",
   "execution_count": 4,
   "id": "0960a181",
   "metadata": {},
   "outputs": [
    {
     "name": "stdout",
     "output_type": "stream",
     "text": [
      "Overwriting main.py\n"
     ]
    }
   ],
   "source": [
    "%%file main.py\n",
    "class Calculator:\n",
    "\n",
    "    def __init__(self, calculator):\n",
    "        self.calculator = calculator\n",
    "\n",
    "    def sum(self, number_1, number_2):\n",
    "        return 9"
   ]
  },
  {
   "cell_type": "code",
   "execution_count": 5,
   "id": "5e2f4b92",
   "metadata": {},
   "outputs": [
    {
     "name": "stdout",
     "output_type": "stream",
     "text": [
      "\u001b[1m============================= test session starts ==============================\u001b[0m\r\n",
      "platform linux -- Python 3.8.5, pytest-6.2.4, py-1.10.0, pluggy-0.13.1 -- /home/test/WP/1.Learning/tdd_dojo/.venv/bin/python3\r\n",
      "cachedir: .pytest_cache\r\n",
      "rootdir: /home/test/WP/1.Learning/tdd_dojo/example_3\r\n",
      "plugins: Faker-8.8.2, anyio-3.2.1, mock-3.6.1\r\n",
      "\u001b[1mcollecting ... \u001b[0m\u001b[1m\r",
      "collected 1 item                                                               \u001b[0m\r\n",
      "\r\n",
      "main_test.py::test__sum_method__returns_nine__when_inputs_are_six_and_three \u001b[32mPASSED\u001b[0m\r\n",
      "\r\n",
      "\u001b[32m============================== \u001b[32m\u001b[1m1 passed\u001b[0m\u001b[32m in 0.03s\u001b[0m\u001b[32m ===============================\u001b[0m\r\n"
     ]
    }
   ],
   "source": [
    "! pytest -svv"
   ]
  },
  {
   "cell_type": "markdown",
   "id": "77f36394",
   "metadata": {},
   "source": [
    "Now the test passes.\n",
    "Note: The calculator dependency is not being instantiated in main.py, instead, an instance of calculator should be passed or injected to the class whenever it is used. For testing we are using [pytest-mock](https://pypi.org/project/pytest-mock/) which helps us create test doubles or mocks. This package is already installed in the requirements.txt\n",
    "\n",
    "Now, let's try with other numbers to make the test fail and refactor the code."
   ]
  },
  {
   "cell_type": "code",
   "execution_count": 6,
   "id": "9ff6caa3",
   "metadata": {},
   "outputs": [
    {
     "name": "stdout",
     "output_type": "stream",
     "text": [
      "Appending to main_test.py\n"
     ]
    }
   ],
   "source": [
    "%%writefile -a main_test.py\n",
    "\n",
    "\n",
    "def test__sum_method__returns_seven__when_inputs_are_four_and_three(mocker):\n",
    "    number_1 = 4\n",
    "    number_2 = 3\n",
    "    calculator = mocker.Mock(sum=mocker.Mock(return_value=7))\n",
    "\n",
    "    calculator_test = Calculator(calculator)\n",
    "    result = calculator_test.sum(number_1, number_2)\n",
    "\n",
    "    assert result == 7\n"
   ]
  },
  {
   "cell_type": "markdown",
   "id": "26e1d4a4",
   "metadata": {},
   "source": [
    "Let's make the test fail."
   ]
  },
  {
   "cell_type": "code",
   "execution_count": 7,
   "id": "75d3149c",
   "metadata": {},
   "outputs": [
    {
     "name": "stdout",
     "output_type": "stream",
     "text": [
      "\u001b[1m============================= test session starts ==============================\u001b[0m\n",
      "platform linux -- Python 3.8.5, pytest-6.2.4, py-1.10.0, pluggy-0.13.1 -- /home/test/WP/1.Learning/tdd_dojo/.venv/bin/python3\n",
      "cachedir: .pytest_cache\n",
      "rootdir: /home/test/WP/1.Learning/tdd_dojo/example_3\n",
      "plugins: Faker-8.8.2, anyio-3.2.1, mock-3.6.1\n",
      "collected 2 items                                                              \u001b[0m\n",
      "\n",
      "main_test.py::test__sum_method__returns_nine__when_inputs_are_six_and_three \u001b[32mPASSED\u001b[0m\n",
      "main_test.py::test__sum_method__returns_seven__when_inputs_are_four_and_three \u001b[31mFAILED\u001b[0m\n",
      "\n",
      "=================================== FAILURES ===================================\n",
      "\u001b[31m\u001b[1m_______ test__sum_method__returns_seven__when_inputs_are_four_and_three ________\u001b[0m\n",
      "\n",
      "mocker = <pytest_mock.plugin.MockerFixture object at 0x7f733693cdc0>\n",
      "\n",
      "    \u001b[94mdef\u001b[39;49;00m \u001b[92mtest__sum_method__returns_seven__when_inputs_are_four_and_three\u001b[39;49;00m(mocker):\n",
      "        number_1 = \u001b[94m4\u001b[39;49;00m\n",
      "        number_2 = \u001b[94m3\u001b[39;49;00m\n",
      "        calculator = mocker.Mock(\u001b[96msum\u001b[39;49;00m=mocker.Mock(return_value=\u001b[94m7\u001b[39;49;00m))\n",
      "    \n",
      "        calculator_test = Calculator(calculator)\n",
      "        result = calculator_test.sum(number_1, number_2)\n",
      "    \n",
      ">       \u001b[94massert\u001b[39;49;00m result == \u001b[94m7\u001b[39;49;00m\n",
      "\u001b[1m\u001b[31mE       assert 9 == 7\u001b[0m\n",
      "\u001b[1m\u001b[31mE         +9\u001b[0m\n",
      "\u001b[1m\u001b[31mE         -7\u001b[0m\n",
      "\n",
      "\u001b[1m\u001b[31mmain_test.py\u001b[0m:23: AssertionError\n",
      "=========================== short test summary info ============================\n",
      "FAILED main_test.py::test__sum_method__returns_seven__when_inputs_are_four_and_three\n",
      "\u001b[31m========================= \u001b[31m\u001b[1m1 failed\u001b[0m, \u001b[32m1 passed\u001b[0m\u001b[31m in 0.09s\u001b[0m\u001b[31m ==========================\u001b[0m\n"
     ]
    }
   ],
   "source": [
    "! pytest -svv"
   ]
  },
  {
   "cell_type": "markdown",
   "id": "84469823",
   "metadata": {},
   "source": [
    "Now, refactor the method to pass the test!"
   ]
  },
  {
   "cell_type": "code",
   "execution_count": 8,
   "id": "79ab563e",
   "metadata": {},
   "outputs": [
    {
     "name": "stdout",
     "output_type": "stream",
     "text": [
      "Appending to main.py\n"
     ]
    }
   ],
   "source": [
    "%%writefile -a main.py\n",
    "\n",
    "    def sum(self, number_1, number_2):\n",
    "        return self.calculator.sum(number_1, number_2)"
   ]
  },
  {
   "cell_type": "markdown",
   "id": "944639b1",
   "metadata": {},
   "source": [
    "Now, the test pass."
   ]
  },
  {
   "cell_type": "code",
   "execution_count": 9,
   "id": "5ed43893",
   "metadata": {},
   "outputs": [
    {
     "name": "stdout",
     "output_type": "stream",
     "text": [
      "\u001b[1m============================= test session starts ==============================\u001b[0m\n",
      "platform linux -- Python 3.8.5, pytest-6.2.4, py-1.10.0, pluggy-0.13.1 -- /home/test/WP/1.Learning/tdd_dojo/.venv/bin/python3\n",
      "cachedir: .pytest_cache\n",
      "rootdir: /home/test/WP/1.Learning/tdd_dojo/example_3\n",
      "plugins: Faker-8.8.2, anyio-3.2.1, mock-3.6.1\n",
      "collected 2 items                                                              \u001b[0m\n",
      "\n",
      "main_test.py::test__sum_method__returns_nine__when_inputs_are_six_and_three \u001b[32mPASSED\u001b[0m\n",
      "main_test.py::test__sum_method__returns_seven__when_inputs_are_four_and_three \u001b[32mPASSED\u001b[0m\n",
      "\n",
      "\u001b[32m============================== \u001b[32m\u001b[1m2 passed\u001b[0m\u001b[32m in 0.04s\u001b[0m\u001b[32m ===============================\u001b[0m\n"
     ]
    }
   ],
   "source": [
    "! pytest -svv"
   ]
  },
  {
   "cell_type": "markdown",
   "id": "c0df10d6",
   "metadata": {},
   "source": [
    "Now, it is working better, but let's test some \"unhappy paths\":\n",
    "\n",
    "Write a test to check if error message is returned if the sum is greater than 100:"
   ]
  },
  {
   "cell_type": "code",
   "execution_count": 10,
   "id": "32919b9f",
   "metadata": {},
   "outputs": [
    {
     "name": "stdout",
     "output_type": "stream",
     "text": [
      "Appending to main_test.py\n"
     ]
    }
   ],
   "source": [
    "%%writefile -a main_test.py\n",
    "\n",
    "\n",
    "def test__sum_method__returns_overflow_error__when_result_is_grater_than_one_hundred(mocker):\n",
    "    number_1 = 110\n",
    "    number_2 = 2\n",
    "    calculator = mocker.Mock(sum=mocker.Mock(return_value=112))\n",
    "\n",
    "    calculator_test = Calculator(calculator)\n",
    "    result = calculator_test.sum(number_1, number_2)\n",
    "\n",
    "    assert result == 'OverflowError'"
   ]
  },
  {
   "cell_type": "markdown",
   "id": "1c6e49cf",
   "metadata": {},
   "source": [
    "Let's make the test fail."
   ]
  },
  {
   "cell_type": "code",
   "execution_count": 11,
   "id": "bed5f0db",
   "metadata": {},
   "outputs": [
    {
     "name": "stdout",
     "output_type": "stream",
     "text": [
      "\u001b[1m============================= test session starts ==============================\u001b[0m\n",
      "platform linux -- Python 3.8.5, pytest-6.2.4, py-1.10.0, pluggy-0.13.1 -- /home/test/WP/1.Learning/tdd_dojo/.venv/bin/python3\n",
      "cachedir: .pytest_cache\n",
      "rootdir: /home/test/WP/1.Learning/tdd_dojo/example_3\n",
      "plugins: Faker-8.8.2, anyio-3.2.1, mock-3.6.1\n",
      "collected 3 items                                                              \u001b[0m\n",
      "\n",
      "main_test.py::test__sum_method__returns_nine__when_inputs_are_six_and_three \u001b[32mPASSED\u001b[0m\n",
      "main_test.py::test__sum_method__returns_seven__when_inputs_are_four_and_three \u001b[32mPASSED\u001b[0m\n",
      "main_test.py::test__sum_method__returns_overflow_error__when_result_is_grater_than_one_hundred \u001b[31mFAILED\u001b[0m\n",
      "\n",
      "=================================== FAILURES ===================================\n",
      "\u001b[31m\u001b[1m_ test__sum_method__returns_overflow_error__when_result_is_grater_than_one_hundred _\u001b[0m\n",
      "\n",
      "mocker = <pytest_mock.plugin.MockerFixture object at 0x7f81e71c78e0>\n",
      "\n",
      "    \u001b[94mdef\u001b[39;49;00m \u001b[92mtest__sum_method__returns_overflow_error__when_result_is_grater_than_one_hundred\u001b[39;49;00m(mocker):\n",
      "        number_1 = \u001b[94m110\u001b[39;49;00m\n",
      "        number_2 = \u001b[94m2\u001b[39;49;00m\n",
      "        calculator = mocker.Mock(\u001b[96msum\u001b[39;49;00m=mocker.Mock(return_value=\u001b[94m112\u001b[39;49;00m))\n",
      "    \n",
      "        calculator_test = Calculator(calculator)\n",
      "        result = calculator_test.sum(number_1, number_2)\n",
      "    \n",
      ">       \u001b[94massert\u001b[39;49;00m result == \u001b[33m'\u001b[39;49;00m\u001b[33mOverflowError\u001b[39;49;00m\u001b[33m'\u001b[39;49;00m\n",
      "\u001b[1m\u001b[31mE       AssertionError: assert 112 == 'OverflowError'\u001b[0m\n",
      "\u001b[1m\u001b[31mE         +112\u001b[0m\n",
      "\u001b[1m\u001b[31mE         -'OverflowError'\u001b[0m\n",
      "\n",
      "\u001b[1m\u001b[31mmain_test.py\u001b[0m:34: AssertionError\n",
      "=========================== short test summary info ============================\n",
      "FAILED main_test.py::test__sum_method__returns_overflow_error__when_result_is_grater_than_one_hundred\n",
      "\u001b[31m========================= \u001b[31m\u001b[1m1 failed\u001b[0m, \u001b[32m2 passed\u001b[0m\u001b[31m in 0.08s\u001b[0m\u001b[31m ==========================\u001b[0m\n"
     ]
    }
   ],
   "source": [
    "! pytest -svv"
   ]
  },
  {
   "cell_type": "markdown",
   "id": "798a5f86",
   "metadata": {},
   "source": [
    "The refactor of this code to pass the test is:"
   ]
  },
  {
   "cell_type": "code",
   "execution_count": 12,
   "id": "ef1b79ca",
   "metadata": {},
   "outputs": [
    {
     "name": "stdout",
     "output_type": "stream",
     "text": [
      "Overwriting main.py\n"
     ]
    }
   ],
   "source": [
    "%%file main.py\n",
    "class Calculator:\n",
    "\n",
    "    def __init__(self, calculator):\n",
    "        self.calculator = calculator\n",
    "    \n",
    "    def sum(self, number_1, number_2):\n",
    "        result = self.calculator.sum(number_1, number_2)\n",
    "        if result > 100:\n",
    "            return \"OverflowError\"\n",
    "        return result\n"
   ]
  },
  {
   "cell_type": "markdown",
   "id": "3fec2d95",
   "metadata": {},
   "source": [
    "Now, the test will pass:"
   ]
  },
  {
   "cell_type": "code",
   "execution_count": 13,
   "id": "9a84cd55",
   "metadata": {},
   "outputs": [
    {
     "name": "stdout",
     "output_type": "stream",
     "text": [
      "\u001b[1m============================= test session starts ==============================\u001b[0m\n",
      "platform linux -- Python 3.8.5, pytest-6.2.4, py-1.10.0, pluggy-0.13.1 -- /home/test/WP/1.Learning/tdd_dojo/.venv/bin/python3\n",
      "cachedir: .pytest_cache\n",
      "rootdir: /home/test/WP/1.Learning/tdd_dojo/example_3\n",
      "plugins: Faker-8.8.2, anyio-3.2.1, mock-3.6.1\n",
      "collected 3 items                                                              \u001b[0m\n",
      "\n",
      "main_test.py::test__sum_method__returns_nine__when_inputs_are_six_and_three \u001b[32mPASSED\u001b[0m\n",
      "main_test.py::test__sum_method__returns_seven__when_inputs_are_four_and_three \u001b[32mPASSED\u001b[0m\n",
      "main_test.py::test__sum_method__returns_overflow_error__when_result_is_grater_than_one_hundred \u001b[32mPASSED\u001b[0m\n",
      "\n",
      "\u001b[32m============================== \u001b[32m\u001b[1m3 passed\u001b[0m\u001b[32m in 0.04s\u001b[0m\u001b[32m ===============================\u001b[0m\n"
     ]
    }
   ],
   "source": [
    "! pytest -svv"
   ]
  },
  {
   "cell_type": "markdown",
   "id": "fbdeeee7",
   "metadata": {},
   "source": [
    "### sub method\n",
    "\n",
    "The procedure for the subtraction method is similar. Let's write the first test:"
   ]
  },
  {
   "cell_type": "code",
   "execution_count": 14,
   "id": "e06d0d64",
   "metadata": {},
   "outputs": [
    {
     "name": "stdout",
     "output_type": "stream",
     "text": [
      "Appending to main_test.py\n"
     ]
    }
   ],
   "source": [
    "%%writefile -a main_test.py\n",
    "\n",
    "\n",
    "def test__sub_method__returns_two__when_inputs_are_six_and_four(mocker):\n",
    "    number_1 = 6\n",
    "    number_2 = 4\n",
    "    calculator = mocker.Mock(sum=mocker.Mock(return_value=2))\n",
    "\n",
    "    calculator_test = Calculator(calculator)\n",
    "    result = calculator_test.sub(number_1, number_2)\n",
    "\n",
    "    assert result == 2"
   ]
  },
  {
   "cell_type": "markdown",
   "id": "6e8ff8f0",
   "metadata": {},
   "source": [
    "Let's make the test fail."
   ]
  },
  {
   "cell_type": "code",
   "execution_count": 15,
   "id": "abdb357c",
   "metadata": {},
   "outputs": [
    {
     "name": "stdout",
     "output_type": "stream",
     "text": [
      "\u001b[1m============================= test session starts ==============================\u001b[0m\n",
      "platform linux -- Python 3.8.5, pytest-6.2.4, py-1.10.0, pluggy-0.13.1 -- /home/test/WP/1.Learning/tdd_dojo/.venv/bin/python3\n",
      "cachedir: .pytest_cache\n",
      "rootdir: /home/test/WP/1.Learning/tdd_dojo/example_3\n",
      "plugins: Faker-8.8.2, anyio-3.2.1, mock-3.6.1\n",
      "collected 4 items                                                              \u001b[0m\n",
      "\n",
      "main_test.py::test__sum_method__returns_nine__when_inputs_are_six_and_three \u001b[32mPASSED\u001b[0m\n",
      "main_test.py::test__sum_method__returns_seven__when_inputs_are_four_and_three \u001b[32mPASSED\u001b[0m\n",
      "main_test.py::test__sum_method__returns_overflow_error__when_result_is_grater_than_one_hundred \u001b[32mPASSED\u001b[0m\n",
      "main_test.py::test__sub_method__returns_two__when_inputs_are_six_and_four \u001b[31mFAILED\u001b[0m\n",
      "\n",
      "=================================== FAILURES ===================================\n",
      "\u001b[31m\u001b[1m_________ test__sub_method__returns_two__when_inputs_are_six_and_four __________\u001b[0m\n",
      "\n",
      "mocker = <pytest_mock.plugin.MockerFixture object at 0x7f431a57a190>\n",
      "\n",
      "    \u001b[94mdef\u001b[39;49;00m \u001b[92mtest__sub_method__returns_two__when_inputs_are_six_and_four\u001b[39;49;00m(mocker):\n",
      "        number_1 = \u001b[94m6\u001b[39;49;00m\n",
      "        number_2 = \u001b[94m4\u001b[39;49;00m\n",
      "        calculator = mocker.Mock(\u001b[96msum\u001b[39;49;00m=mocker.Mock(return_value=\u001b[94m2\u001b[39;49;00m))\n",
      "    \n",
      "        calculator_test = Calculator(calculator)\n",
      ">       result = calculator_test.sub(number_1, number_2)\n",
      "\u001b[1m\u001b[31mE       AttributeError: 'Calculator' object has no attribute 'sub'\u001b[0m\n",
      "\n",
      "\u001b[1m\u001b[31mmain_test.py\u001b[0m:43: AttributeError\n",
      "=========================== short test summary info ============================\n",
      "FAILED main_test.py::test__sub_method__returns_two__when_inputs_are_six_and_four\n",
      "\u001b[31m========================= \u001b[31m\u001b[1m1 failed\u001b[0m, \u001b[32m3 passed\u001b[0m\u001b[31m in 0.09s\u001b[0m\u001b[31m ==========================\u001b[0m\n"
     ]
    }
   ],
   "source": [
    "! pytest -svv"
   ]
  },
  {
   "cell_type": "markdown",
   "id": "dab98aea",
   "metadata": {},
   "source": [
    "To pass this test we can do:"
   ]
  },
  {
   "cell_type": "code",
   "execution_count": 16,
   "id": "49835bb6",
   "metadata": {},
   "outputs": [
    {
     "name": "stdout",
     "output_type": "stream",
     "text": [
      "Overwriting main.py\n"
     ]
    }
   ],
   "source": [
    "%%file main.py\n",
    "class Calculator:\n",
    "\n",
    "    def __init__(self, calculator):\n",
    "        self.calculator = calculator\n",
    "    \n",
    "    def sum(self, number_1, number_2):\n",
    "        result = self.calculator.sum(number_1, number_2)\n",
    "        if result > 100:\n",
    "            return \"OverflowError\"\n",
    "        return result\n",
    "    \n",
    "    def sub(self, number_1, number_2):\n",
    "        return 2"
   ]
  },
  {
   "cell_type": "markdown",
   "id": "0f59da53",
   "metadata": {},
   "source": [
    "Now it will pass."
   ]
  },
  {
   "cell_type": "code",
   "execution_count": 17,
   "id": "ef17d0a8",
   "metadata": {},
   "outputs": [
    {
     "name": "stdout",
     "output_type": "stream",
     "text": [
      "\u001b[1m============================= test session starts ==============================\u001b[0m\r\n",
      "platform linux -- Python 3.8.5, pytest-6.2.4, py-1.10.0, pluggy-0.13.1 -- /home/test/WP/1.Learning/tdd_dojo/.venv/bin/python3\r\n",
      "cachedir: .pytest_cache\r\n",
      "rootdir: /home/test/WP/1.Learning/tdd_dojo/example_3\r\n",
      "plugins: Faker-8.8.2, anyio-3.2.1, mock-3.6.1\r\n",
      "\u001b[1mcollecting ... \u001b[0m\u001b[1m\r",
      "collected 4 items                                                              \u001b[0m\r\n",
      "\r\n",
      "main_test.py::test__sum_method__returns_nine__when_inputs_are_six_and_three \u001b[32mPASSED\u001b[0m\r\n",
      "main_test.py::test__sum_method__returns_seven__when_inputs_are_four_and_three \u001b[32mPASSED\u001b[0m\r\n",
      "main_test.py::test__sum_method__returns_overflow_error__when_result_is_grater_than_one_hundred \u001b[32mPASSED\u001b[0m\r\n",
      "main_test.py::test__sub_method__returns_two__when_inputs_are_six_and_four \u001b[32mPASSED\u001b[0m\r\n",
      "\r\n",
      "\u001b[32m============================== \u001b[32m\u001b[1m4 passed\u001b[0m\u001b[32m in 0.04s\u001b[0m\u001b[32m ===============================\u001b[0m\r\n"
     ]
    }
   ],
   "source": [
    "! pytest -svv"
   ]
  },
  {
   "cell_type": "markdown",
   "id": "55ca5538",
   "metadata": {},
   "source": [
    "This is not good for all the possible numbers so let's write another test:"
   ]
  },
  {
   "cell_type": "code",
   "execution_count": 18,
   "id": "0b603459",
   "metadata": {},
   "outputs": [
    {
     "name": "stdout",
     "output_type": "stream",
     "text": [
      "Appending to main_test.py\n"
     ]
    }
   ],
   "source": [
    "%%writefile -a main_test.py\n",
    "\n",
    "\n",
    "def test__sub_method__returns_seven__when_inputs_are_nine_and_two(mocker):\n",
    "    number_1 = 9\n",
    "    number_2 = 2\n",
    "    calculator = mocker.Mock(sum=mocker.Mock(return_value=7))\n",
    "\n",
    "    calculator_test = Calculator(calculator)\n",
    "    result = calculator_test.sub(number_1, number_2)\n",
    "\n",
    "    assert result == 7"
   ]
  },
  {
   "cell_type": "markdown",
   "id": "c394effc",
   "metadata": {},
   "source": [
    "Let's make the test fail."
   ]
  },
  {
   "cell_type": "code",
   "execution_count": 19,
   "id": "6c74cbc4",
   "metadata": {},
   "outputs": [
    {
     "name": "stdout",
     "output_type": "stream",
     "text": [
      "\u001b[1m============================= test session starts ==============================\u001b[0m\n",
      "platform linux -- Python 3.8.5, pytest-6.2.4, py-1.10.0, pluggy-0.13.1 -- /home/test/WP/1.Learning/tdd_dojo/.venv/bin/python3\n",
      "cachedir: .pytest_cache\n",
      "rootdir: /home/test/WP/1.Learning/tdd_dojo/example_3\n",
      "plugins: Faker-8.8.2, anyio-3.2.1, mock-3.6.1\n",
      "collected 5 items                                                              \u001b[0m\n",
      "\n",
      "main_test.py::test__sum_method__returns_nine__when_inputs_are_six_and_three \u001b[32mPASSED\u001b[0m\n",
      "main_test.py::test__sum_method__returns_seven__when_inputs_are_four_and_three \u001b[32mPASSED\u001b[0m\n",
      "main_test.py::test__sum_method__returns_overflow_error__when_result_is_grater_than_one_hundred \u001b[32mPASSED\u001b[0m\n",
      "main_test.py::test__sub_method__returns_two__when_inputs_are_six_and_four \u001b[32mPASSED\u001b[0m\n",
      "main_test.py::test__sub_method__returns_seven__when_inputs_are_nine_and_two \u001b[31mFAILED\u001b[0m\n",
      "\n",
      "=================================== FAILURES ===================================\n",
      "\u001b[31m\u001b[1m________ test__sub_method__returns_seven__when_inputs_are_nine_and_two _________\u001b[0m\n",
      "\n",
      "mocker = <pytest_mock.plugin.MockerFixture object at 0x7fb472ad7fa0>\n",
      "\n",
      "    \u001b[94mdef\u001b[39;49;00m \u001b[92mtest__sub_method__returns_seven__when_inputs_are_nine_and_two\u001b[39;49;00m(mocker):\n",
      "        number_1 = \u001b[94m9\u001b[39;49;00m\n",
      "        number_2 = \u001b[94m2\u001b[39;49;00m\n",
      "        calculator = mocker.Mock(\u001b[96msum\u001b[39;49;00m=mocker.Mock(return_value=\u001b[94m7\u001b[39;49;00m))\n",
      "    \n",
      "        calculator_test = Calculator(calculator)\n",
      "        result = calculator_test.sub(number_1, number_2)\n",
      "    \n",
      ">       \u001b[94massert\u001b[39;49;00m result == \u001b[94m7\u001b[39;49;00m\n",
      "\u001b[1m\u001b[31mE       assert 2 == 7\u001b[0m\n",
      "\u001b[1m\u001b[31mE         +2\u001b[0m\n",
      "\u001b[1m\u001b[31mE         -7\u001b[0m\n",
      "\n",
      "\u001b[1m\u001b[31mmain_test.py\u001b[0m:56: AssertionError\n",
      "=========================== short test summary info ============================\n",
      "FAILED main_test.py::test__sub_method__returns_seven__when_inputs_are_nine_and_two\n",
      "\u001b[31m========================= \u001b[31m\u001b[1m1 failed\u001b[0m, \u001b[32m4 passed\u001b[0m\u001b[31m in 0.09s\u001b[0m\u001b[31m ==========================\u001b[0m\n"
     ]
    }
   ],
   "source": [
    "! pytest -svv"
   ]
  },
  {
   "cell_type": "markdown",
   "id": "abf8a30f",
   "metadata": {},
   "source": [
    "Now we refactor the code to pass the test:"
   ]
  },
  {
   "cell_type": "code",
   "execution_count": 20,
   "id": "22f4cf7a",
   "metadata": {},
   "outputs": [
    {
     "name": "stdout",
     "output_type": "stream",
     "text": [
      "Overwriting main.py\n"
     ]
    }
   ],
   "source": [
    "%%file main.py\n",
    "class Calculator:\n",
    "\n",
    "    def __init__(self, calculator):\n",
    "        self.calculator = calculator\n",
    "    \n",
    "    def sum(self, number_1, number_2):\n",
    "        result = self.calculator.sum(number_1, number_2)\n",
    "        if result > 100:\n",
    "            return \"OverflowError\"\n",
    "        return result\n",
    "    \n",
    "    def sub(self, number_1, number_2):\n",
    "        return self.calculator.sum(number_1, - number_2)\n",
    "    "
   ]
  },
  {
   "cell_type": "markdown",
   "id": "10024536",
   "metadata": {},
   "source": [
    "Now the test will pass."
   ]
  },
  {
   "cell_type": "code",
   "execution_count": 21,
   "id": "1583422d",
   "metadata": {},
   "outputs": [
    {
     "name": "stdout",
     "output_type": "stream",
     "text": [
      "\u001b[1m============================= test session starts ==============================\u001b[0m\n",
      "platform linux -- Python 3.8.5, pytest-6.2.4, py-1.10.0, pluggy-0.13.1 -- /home/test/WP/1.Learning/tdd_dojo/.venv/bin/python3\n",
      "cachedir: .pytest_cache\n",
      "rootdir: /home/test/WP/1.Learning/tdd_dojo/example_3\n",
      "plugins: Faker-8.8.2, anyio-3.2.1, mock-3.6.1\n",
      "collected 5 items                                                              \u001b[0m\n",
      "\n",
      "main_test.py::test__sum_method__returns_nine__when_inputs_are_six_and_three \u001b[32mPASSED\u001b[0m\n",
      "main_test.py::test__sum_method__returns_seven__when_inputs_are_four_and_three \u001b[32mPASSED\u001b[0m\n",
      "main_test.py::test__sum_method__returns_overflow_error__when_result_is_grater_than_one_hundred \u001b[32mPASSED\u001b[0m\n",
      "main_test.py::test__sub_method__returns_two__when_inputs_are_six_and_four \u001b[32mPASSED\u001b[0m\n",
      "main_test.py::test__sub_method__returns_seven__when_inputs_are_nine_and_two \u001b[32mPASSED\u001b[0m\n",
      "\n",
      "\u001b[32m============================== \u001b[32m\u001b[1m5 passed\u001b[0m\u001b[32m in 0.04s\u001b[0m\u001b[32m ===============================\u001b[0m\n"
     ]
    }
   ],
   "source": [
    "! pytest -svv"
   ]
  },
  {
   "cell_type": "markdown",
   "id": "ab51657f",
   "metadata": {},
   "source": [
    "Since, we don't have any restriction for the subtraction method, we can leave like that."
   ]
  },
  {
   "cell_type": "markdown",
   "id": "9841d161",
   "metadata": {},
   "source": [
    "### fac method\n",
    "\n",
    "For the fac method, we can write a test for a number:"
   ]
  },
  {
   "cell_type": "code",
   "execution_count": 22,
   "id": "8e43e7f9",
   "metadata": {},
   "outputs": [
    {
     "name": "stdout",
     "output_type": "stream",
     "text": [
      "Appending to main_test.py\n"
     ]
    }
   ],
   "source": [
    "%%writefile -a main_test.py\n",
    "\n",
    "\n",
    "def test__fac_method__returns_six__when_input_is_three(mocker):\n",
    "    number = 3\n",
    "    calculator = mocker.Mock(mul=mocker.Mock(side_effect=lambda number_1, number_2 : number_1 * number_2))\n",
    "\n",
    "    calculator_test = Calculator(calculator)\n",
    "    result = calculator_test.fac(number)\n",
    "\n",
    "    assert result == 6"
   ]
  },
  {
   "cell_type": "markdown",
   "id": "69bb8653",
   "metadata": {},
   "source": [
    "Let's make the test fail."
   ]
  },
  {
   "cell_type": "code",
   "execution_count": 23,
   "id": "9d156cfb",
   "metadata": {},
   "outputs": [
    {
     "name": "stdout",
     "output_type": "stream",
     "text": [
      "\u001b[1m============================= test session starts ==============================\u001b[0m\n",
      "platform linux -- Python 3.8.5, pytest-6.2.4, py-1.10.0, pluggy-0.13.1 -- /home/test/WP/1.Learning/tdd_dojo/.venv/bin/python3\n",
      "cachedir: .pytest_cache\n",
      "rootdir: /home/test/WP/1.Learning/tdd_dojo/example_3\n",
      "plugins: Faker-8.8.2, anyio-3.2.1, mock-3.6.1\n",
      "collected 6 items                                                              \u001b[0m\n",
      "\n",
      "main_test.py::test__sum_method__returns_nine__when_inputs_are_six_and_three \u001b[32mPASSED\u001b[0m\n",
      "main_test.py::test__sum_method__returns_seven__when_inputs_are_four_and_three \u001b[32mPASSED\u001b[0m\n",
      "main_test.py::test__sum_method__returns_overflow_error__when_result_is_grater_than_one_hundred \u001b[32mPASSED\u001b[0m\n",
      "main_test.py::test__sub_method__returns_two__when_inputs_are_six_and_four \u001b[32mPASSED\u001b[0m\n",
      "main_test.py::test__sub_method__returns_seven__when_inputs_are_nine_and_two \u001b[32mPASSED\u001b[0m\n",
      "main_test.py::test__fac_method__returns_six__when_input_is_three \u001b[31mFAILED\u001b[0m\n",
      "\n",
      "=================================== FAILURES ===================================\n",
      "\u001b[31m\u001b[1m______________ test__fac_method__returns_six__when_input_is_three ______________\u001b[0m\n",
      "\n",
      "mocker = <pytest_mock.plugin.MockerFixture object at 0x7fee93b4a8e0>\n",
      "\n",
      "    \u001b[94mdef\u001b[39;49;00m \u001b[92mtest__fac_method__returns_six__when_input_is_three\u001b[39;49;00m(mocker):\n",
      "        number = \u001b[94m3\u001b[39;49;00m\n",
      "        calculator = mocker.Mock(mul=mocker.Mock(side_effect=\u001b[94mlambda\u001b[39;49;00m number_1, number_2 : number_1 * number_2))\n",
      "    \n",
      "        calculator_test = Calculator(calculator)\n",
      ">       result = calculator_test.fac(number)\n",
      "\u001b[1m\u001b[31mE       AttributeError: 'Calculator' object has no attribute 'fac'\u001b[0m\n",
      "\n",
      "\u001b[1m\u001b[31mmain_test.py\u001b[0m:64: AttributeError\n",
      "=========================== short test summary info ============================\n",
      "FAILED main_test.py::test__fac_method__returns_six__when_input_is_three - Att...\n",
      "\u001b[31m========================= \u001b[31m\u001b[1m1 failed\u001b[0m, \u001b[32m5 passed\u001b[0m\u001b[31m in 0.09s\u001b[0m\u001b[31m ==========================\u001b[0m\n"
     ]
    }
   ],
   "source": [
    "! pytest -svv"
   ]
  },
  {
   "cell_type": "markdown",
   "id": "45d82457",
   "metadata": {},
   "source": [
    "To past the test, the simplest step is:"
   ]
  },
  {
   "cell_type": "code",
   "execution_count": 24,
   "id": "f5725693",
   "metadata": {},
   "outputs": [
    {
     "name": "stdout",
     "output_type": "stream",
     "text": [
      "Overwriting main.py\n"
     ]
    }
   ],
   "source": [
    "%%file main.py\n",
    "class Calculator:\n",
    "\n",
    "    def __init__(self, calculator):\n",
    "        self.calculator = calculator\n",
    "    \n",
    "    def sum(self, number_1, number_2):\n",
    "        result = self.calculator.sum(number_1, number_2)\n",
    "        if result > 100:\n",
    "            return \"OverflowError\"\n",
    "        return result\n",
    "    \n",
    "    def sub(self, number_1, number_2):\n",
    "        return self.calculator.sum(number_1, - number_2)\n",
    "\n",
    "    def fac(self, number):\n",
    "        return 6"
   ]
  },
  {
   "cell_type": "markdown",
   "id": "779d0729",
   "metadata": {},
   "source": [
    "Let's make the test pass."
   ]
  },
  {
   "cell_type": "code",
   "execution_count": 25,
   "id": "06dcf142",
   "metadata": {},
   "outputs": [
    {
     "name": "stdout",
     "output_type": "stream",
     "text": [
      "\u001b[1m============================= test session starts ==============================\u001b[0m\r\n",
      "platform linux -- Python 3.8.5, pytest-6.2.4, py-1.10.0, pluggy-0.13.1 -- /home/test/WP/1.Learning/tdd_dojo/.venv/bin/python3\r\n",
      "cachedir: .pytest_cache\r\n",
      "rootdir: /home/test/WP/1.Learning/tdd_dojo/example_3\r\n",
      "plugins: Faker-8.8.2, anyio-3.2.1, mock-3.6.1\r\n",
      "\u001b[1mcollecting ... \u001b[0m\u001b[1m\r",
      "collected 6 items                                                              \u001b[0m\r\n",
      "\r\n",
      "main_test.py::test__sum_method__returns_nine__when_inputs_are_six_and_three \u001b[32mPASSED\u001b[0m\r\n",
      "main_test.py::test__sum_method__returns_seven__when_inputs_are_four_and_three \u001b[32mPASSED\u001b[0m\r\n",
      "main_test.py::test__sum_method__returns_overflow_error__when_result_is_grater_than_one_hundred \u001b[32mPASSED\u001b[0m\r\n",
      "main_test.py::test__sub_method__returns_two__when_inputs_are_six_and_four \u001b[32mPASSED\u001b[0m\r\n",
      "main_test.py::test__sub_method__returns_seven__when_inputs_are_nine_and_two \u001b[32mPASSED\u001b[0m\r\n",
      "main_test.py::test__fac_method__returns_six__when_input_is_three \u001b[32mPASSED\u001b[0m\r\n",
      "\r\n",
      "\u001b[32m============================== \u001b[32m\u001b[1m6 passed\u001b[0m\u001b[32m in 0.04s\u001b[0m\u001b[32m ===============================\u001b[0m\r\n"
     ]
    }
   ],
   "source": [
    "! pytest -svv"
   ]
  },
  {
   "cell_type": "markdown",
   "id": "b9cf9cd9",
   "metadata": {},
   "source": [
    "Now, let's try with other numbers:"
   ]
  },
  {
   "cell_type": "code",
   "execution_count": 26,
   "id": "f0d30682",
   "metadata": {},
   "outputs": [
    {
     "name": "stdout",
     "output_type": "stream",
     "text": [
      "Appending to main_test.py\n"
     ]
    }
   ],
   "source": [
    "%%writefile -a main_test.py\n",
    "\n",
    "\n",
    "def test__fac_method__returns_362880__when_input_is_nine(mocker):\n",
    "    number = 9\n",
    "    calculator = mocker.Mock(mul=mocker.Mock(side_effect=lambda number_1, number_2 : number_1 * number_2))\n",
    "\n",
    "    calculator_test = Calculator(calculator)\n",
    "    result = calculator_test.fac(number)\n",
    "\n",
    "    assert result == 362880"
   ]
  },
  {
   "cell_type": "markdown",
   "id": "63c5d5a3",
   "metadata": {},
   "source": [
    "Let's make the test fail."
   ]
  },
  {
   "cell_type": "code",
   "execution_count": 27,
   "id": "4d088837",
   "metadata": {},
   "outputs": [
    {
     "name": "stdout",
     "output_type": "stream",
     "text": [
      "\u001b[1m============================= test session starts ==============================\u001b[0m\n",
      "platform linux -- Python 3.8.5, pytest-6.2.4, py-1.10.0, pluggy-0.13.1 -- /home/test/WP/1.Learning/tdd_dojo/.venv/bin/python3\n",
      "cachedir: .pytest_cache\n",
      "rootdir: /home/test/WP/1.Learning/tdd_dojo/example_3\n",
      "plugins: Faker-8.8.2, anyio-3.2.1, mock-3.6.1\n",
      "collected 7 items                                                              \u001b[0m\n",
      "\n",
      "main_test.py::test__sum_method__returns_nine__when_inputs_are_six_and_three \u001b[32mPASSED\u001b[0m\n",
      "main_test.py::test__sum_method__returns_seven__when_inputs_are_four_and_three \u001b[32mPASSED\u001b[0m\n",
      "main_test.py::test__sum_method__returns_overflow_error__when_result_is_grater_than_one_hundred \u001b[32mPASSED\u001b[0m\n",
      "main_test.py::test__sub_method__returns_two__when_inputs_are_six_and_four \u001b[32mPASSED\u001b[0m\n",
      "main_test.py::test__sub_method__returns_seven__when_inputs_are_nine_and_two \u001b[32mPASSED\u001b[0m\n",
      "main_test.py::test__fac_method__returns_six__when_input_is_three \u001b[32mPASSED\u001b[0m\n",
      "main_test.py::test__fac_method__returns_362880__when_input_is_nine \u001b[31mFAILED\u001b[0m\n",
      "\n",
      "=================================== FAILURES ===================================\n",
      "\u001b[31m\u001b[1m_____________ test__fac_method__returns_362880__when_input_is_nine _____________\u001b[0m\n",
      "\n",
      "mocker = <pytest_mock.plugin.MockerFixture object at 0x7f9cf65f20d0>\n",
      "\n",
      "    \u001b[94mdef\u001b[39;49;00m \u001b[92mtest__fac_method__returns_362880__when_input_is_nine\u001b[39;49;00m(mocker):\n",
      "        number = \u001b[94m9\u001b[39;49;00m\n",
      "        calculator = mocker.Mock(mul=mocker.Mock(side_effect=\u001b[94mlambda\u001b[39;49;00m number_1, number_2 : number_1 * number_2))\n",
      "    \n",
      "        calculator_test = Calculator(calculator)\n",
      "        result = calculator_test.fac(number)\n",
      "    \n",
      ">       \u001b[94massert\u001b[39;49;00m result == \u001b[94m362880\u001b[39;49;00m\n",
      "\u001b[1m\u001b[31mE       assert 6 == 362880\u001b[0m\n",
      "\u001b[1m\u001b[31mE         +6\u001b[0m\n",
      "\u001b[1m\u001b[31mE         -362880\u001b[0m\n",
      "\n",
      "\u001b[1m\u001b[31mmain_test.py\u001b[0m:76: AssertionError\n",
      "=========================== short test summary info ============================\n",
      "FAILED main_test.py::test__fac_method__returns_362880__when_input_is_nine - a...\n",
      "\u001b[31m========================= \u001b[31m\u001b[1m1 failed\u001b[0m, \u001b[32m6 passed\u001b[0m\u001b[31m in 0.10s\u001b[0m\u001b[31m ==========================\u001b[0m\n"
     ]
    }
   ],
   "source": [
    "! pytest -svv"
   ]
  },
  {
   "cell_type": "markdown",
   "id": "388650d0",
   "metadata": {},
   "source": [
    "Now we need to refactor the method:"
   ]
  },
  {
   "cell_type": "code",
   "execution_count": 28,
   "id": "b1b985cc",
   "metadata": {},
   "outputs": [
    {
     "name": "stdout",
     "output_type": "stream",
     "text": [
      "Overwriting main.py\n"
     ]
    }
   ],
   "source": [
    "%%file main.py\n",
    "class Calculator:\n",
    "\n",
    "    def __init__(self, calculator):\n",
    "        self.calculator = calculator\n",
    "    \n",
    "    def sum(self, number_1, number_2):\n",
    "        result = self.calculator.sum(number_1, number_2)\n",
    "        if result > 100:\n",
    "            return \"OverflowError\"\n",
    "        return result\n",
    "    \n",
    "    def sub(self, number_1, number_2):\n",
    "        return self.calculator.sum(number_1, - number_2)\n",
    "\n",
    "    def fac(self, number):\n",
    "        result = 1\n",
    "        for positive_int in range(1, number + 1):\n",
    "            result = self.calculator.mul(result, positive_int)\n",
    "        return result\n"
   ]
  },
  {
   "cell_type": "markdown",
   "id": "5a50dc39",
   "metadata": {},
   "source": [
    "Now the test passes, and we have implemented the requirements!"
   ]
  },
  {
   "cell_type": "code",
   "execution_count": 29,
   "id": "717e2e6b",
   "metadata": {},
   "outputs": [
    {
     "name": "stdout",
     "output_type": "stream",
     "text": [
      "\u001b[1m============================= test session starts ==============================\u001b[0m\n",
      "platform linux -- Python 3.8.5, pytest-6.2.4, py-1.10.0, pluggy-0.13.1 -- /home/test/WP/1.Learning/tdd_dojo/.venv/bin/python3\n",
      "cachedir: .pytest_cache\n",
      "rootdir: /home/test/WP/1.Learning/tdd_dojo/example_3\n",
      "plugins: Faker-8.8.2, anyio-3.2.1, mock-3.6.1\n",
      "collected 7 items                                                              \u001b[0m\n",
      "\n",
      "main_test.py::test__sum_method__returns_nine__when_inputs_are_six_and_three \u001b[32mPASSED\u001b[0m\n",
      "main_test.py::test__sum_method__returns_seven__when_inputs_are_four_and_three \u001b[32mPASSED\u001b[0m\n",
      "main_test.py::test__sum_method__returns_overflow_error__when_result_is_grater_than_one_hundred \u001b[32mPASSED\u001b[0m\n",
      "main_test.py::test__sub_method__returns_two__when_inputs_are_six_and_four \u001b[32mPASSED\u001b[0m\n",
      "main_test.py::test__sub_method__returns_seven__when_inputs_are_nine_and_two \u001b[32mPASSED\u001b[0m\n",
      "main_test.py::test__fac_method__returns_six__when_input_is_three \u001b[32mPASSED\u001b[0m\n",
      "main_test.py::test__fac_method__returns_362880__when_input_is_nine \u001b[32mPASSED\u001b[0m\n",
      "\n",
      "\u001b[32m============================== \u001b[32m\u001b[1m7 passed\u001b[0m\u001b[32m in 0.04s\u001b[0m\u001b[32m ===============================\u001b[0m\n"
     ]
    }
   ],
   "source": [
    "! pytest -svv"
   ]
  },
  {
   "cell_type": "markdown",
   "id": "1d26d7ff",
   "metadata": {},
   "source": [
    "**Note:** The mock for the calculator.mul in this case is a little more complex, because we need that this method actually returns the multiplication of two numbers."
   ]
  },
  {
   "cell_type": "code",
   "execution_count": null,
   "id": "0c75632f",
   "metadata": {},
   "outputs": [],
   "source": []
  }
 ],
 "metadata": {
  "kernelspec": {
   "display_name": "Python 3 (ipykernel)",
   "language": "python",
   "name": "python3"
  },
  "language_info": {
   "codemirror_mode": {
    "name": "ipython",
    "version": 3
   },
   "file_extension": ".py",
   "mimetype": "text/x-python",
   "name": "python",
   "nbconvert_exporter": "python",
   "pygments_lexer": "ipython3",
   "version": "3.8.5"
  }
 },
 "nbformat": 4,
 "nbformat_minor": 5
}
